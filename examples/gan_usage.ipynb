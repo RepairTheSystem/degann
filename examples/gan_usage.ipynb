{
 "cells": [
  {
   "cell_type": "markdown",
   "metadata": {},
   "source": [
    "# GAN usage in DEGANN\n",
    "\n",
    "### This notebook demonstrates how to create and train a GAN using DEGANN."
   ]
  },
  {
   "cell_type": "markdown",
   "metadata": {},
   "source": [
    "### Import necessary libraries:"
   ]
  },
  {
   "cell_type": "code",
   "execution_count": null,
   "metadata": {},
   "outputs": [],
   "source": [
    "import tensorflow as tf\n",
    "import numpy as np\n",
    "import matplotlib.pyplot as plt\n",
    "\n",
    "from sklearn.model_selection import train_test_split\n",
    "from degann.networks import IModel\n",
    "\n",
    "from degann.networks.topology.densenet.topology_config import DenseNetParams\n",
    "from degann.networks.topology.densenet.compile_config import DenseNetCompileParams\n",
    "from degann.networks.topology.gan.topology_config import GANTopologyParams\n",
    "from degann.networks.topology.gan.compile_config import GANCompileParams"
   ]
  },
  {
   "cell_type": "markdown",
   "metadata": {},
   "source": [
    "### Prepare data for neural network training:"
   ]
  },
  {
   "cell_type": "code",
   "execution_count": null,
   "metadata": {},
   "outputs": [],
   "source": [
    "# Define target function to approximate: y = sin(10x)\n",
    "def sin10x(x):\n",
    "    return np.sin(10 * x)\n",
    "\n",
    "\n",
    "# Generate synthetic dataset\n",
    "data_size = 2048\n",
    "# Create input data with 20% extra to account for train/test split\n",
    "X = np.linspace(0, 1, int(data_size / 0.8)).reshape(-1, 1)  # Reshape for Keras compatibility\n",
    "y = sin10x(X)\n",
    "\n",
    "# Split data into training and testing sets (80% train, 20% test)\n",
    "X_train, X_test, y_train, y_test = train_test_split(\n",
    "    X, y, test_size=0.2\n",
    ")"
   ]
  },
  {
   "cell_type": "markdown",
   "metadata": {},
   "source": [
    "### Define and create GAN architecture:"
   ]
  },
  {
   "cell_type": "code",
   "execution_count": null,
   "metadata": {},
   "outputs": [],
   "source": [
    "# Generator configuration: Learns to produce realistic outputs given random inputs\n",
    "# Architecture: 3 hidden layers with 32 neurons each using Leaky ReLU activation\n",
    "gen_config = DenseNetParams(\n",
    "    input_size=1,  # Input dimension (random noise)\n",
    "    block_size=[32, 32, 32],  # Hidden layer structure\n",
    "    output_size=1,  # Output dimension (matching real data)\n",
    "    activation_func=\"leaky_relu\",\n",
    ")\n",
    "\n",
    "# Discriminator configuration: Distinguishes real vs generated data pairs\n",
    "# Architecture: 3 hidden layers with 32 neurons each using Leaky ReLU activation\n",
    "disc_config = DenseNetParams(\n",
    "    input_size=2,  # Input dimension (concatenated [input, output] pairs)\n",
    "    block_size=[32, 32, 32],\n",
    "    output_size=1,  # Binary classification (real/fake)\n",
    "    activation_func=\"leaky_relu\",\n",
    ")\n",
    "\n",
    "# Combine components into GAN architecture\n",
    "gan_params = GANTopologyParams(\n",
    "    generator_params=gen_config,\n",
    "    discriminator_params=disc_config,\n",
    ")\n",
    "gan = IModel(gan_params)  # Instantiate GAN model"
   ]
  },
  {
   "cell_type": "markdown",
   "metadata": {},
   "source": [
    "### Compile GAN:"
   ]
  },
  {
   "cell_type": "code",
   "execution_count": null,
   "metadata": {},
   "outputs": [],
   "source": [
    "# Generator compilation parameters\n",
    "gen_compile_config = DenseNetCompileParams(\n",
    "    rate=0.0002,\n",
    "    optimizer=\"Adam\",\n",
    "    loss_func=\"BinaryCrossentropy\",  # Measures ability to fool discriminator\n",
    "    metric_funcs=[\"mean_absolute_error\"],  # Track output similarity to real data\n",
    ")\n",
    "# Discriminator compilation parameters\n",
    "disc_compile_config = DenseNetCompileParams(\n",
    "    rate=0.0002,\n",
    "    optimizer=\"Adam\",\n",
    "    loss_func=\"BinaryCrossentropy\",  # Standard binary classification loss\n",
    "    metric_funcs=[\"binary_accuracy\"],  # Track classification performance\n",
    ")\n",
    "# Combine compilation configurations\n",
    "gan_compile_config = GANCompileParams(\n",
    "    generator_params=gen_compile_config,\n",
    "    discriminator_params=disc_compile_config,\n",
    ")\n",
    "gan.compile(gan_compile_config)  # Finalize model setup"
   ]
  },
  {
   "cell_type": "markdown",
   "metadata": {},
   "source": [
    "### Train GAN and log metrics to tensorboard:"
   ]
  },
  {
   "cell_type": "code",
   "execution_count": null,
   "metadata": {},
   "outputs": [],
   "source": [
    "# Configure training logs directory\n",
    "log_dir = \"./gan_usage_log\"\n",
    "tensorboard_callback = tf.keras.callbacks.TensorBoard(\n",
    "    log_dir=log_dir,\n",
    "    histogram_freq=0,\n",
    "    embeddings_freq=0,\n",
    "    update_freq=\"epoch\",  # Log metrics after each epoch\n",
    ")\n",
    "# Train GAN for 1500 epochs with batch size 64\n",
    "gan.train(\n",
    "    X_train,\n",
    "    y_train,\n",
    "    epochs=1500,\n",
    "    mini_batch_size=64,\n",
    "    callbacks=[tensorboard_callback],  # Enable TensorBoard logging\n",
    ")"
   ]
  },
  {
   "cell_type": "markdown",
   "metadata": {},
   "source": [
    "### Evaluate GAN on test data:"
   ]
  },
  {
   "cell_type": "code",
   "execution_count": null,
   "metadata": {},
   "outputs": [],
   "source": [
    "# Evaluate model performance on unseen data\n",
    "gan.evaluate(\n",
    "    X_test,\n",
    "    y_test,\n",
    "    batch_size=64,\n",
    "    callbacks=[tensorboard_callback],\n",
    ")\n",
    "\n",
    "# Visualize results\n",
    "plt.figure(figsize=(10, 6))\n",
    "\n",
    "# Plot real data\n",
    "plt.scatter(X_test, y_test, c=\"blue\", label=\"Real Data\", alpha=0.5)\n",
    "\n",
    "# Plot generated data\n",
    "plt.scatter(X_test, gan.feedforward(X_test), c=\"red\", label=\"Generated Data\", alpha=0.5)\n",
    "\n",
    "# Plot ideal target function for reference\n",
    "x = np.linspace(0, 1, 100)\n",
    "plt.plot(x, sin10x(x), c=\"green\", linestyle=\"--\", label=\"Ideal: y = sin(10x)\")\n",
    "\n",
    "plt.xlabel(\"X\")\n",
    "plt.ylabel(\"y\")\n",
    "plt.title(\"Data Distribution Comparison\")\n",
    "plt.legend()\n",
    "plt.grid(True)\n",
    "plt.show()"
   ]
  }
 ],
 "metadata": {
  "kernelspec": {
   "display_name": "venv",
   "language": "python",
   "name": "python3"
  },
  "language_info": {
   "codemirror_mode": {
    "name": "ipython",
    "version": 3
   },
   "file_extension": ".py",
   "mimetype": "text/x-python",
   "name": "python",
   "nbconvert_exporter": "python",
   "pygments_lexer": "ipython3",
   "version": "3.12.3"
  }
 },
 "nbformat": 4,
 "nbformat_minor": 2
}
